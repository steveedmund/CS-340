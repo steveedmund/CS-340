{
 "cells": [
  {
   "cell_type": "code",
   "execution_count": 1,
   "metadata": {},
   "outputs": [
    {
     "name": "stdout",
     "output_type": "stream",
     "text": [
      "{'name': 'brutus', 'type': 'dog'}\n",
      "{'name': 'otis', 'type': 'dog'}\n"
     ]
    }
   ],
   "source": [
    "from SE_AnimalShelter import AnimalShelter\n",
    "\n",
    "animal = AnimalShelter(\"aacuser\", \"admin\")\n",
    "animal_data = [\n",
    "    {\n",
    "        \"name\" : \"brutus\",\n",
    "        \"type\" : \"dog\"\n",
    "    },\n",
    "    {\n",
    "        \"name\" : \"fluffy\",\n",
    "        \"type\" : \"cat\"\n",
    "    },\n",
    "    {\n",
    "        \"name\" : \"otis\",\n",
    "        \"type\" : \"dog\"\n",
    "    }\n",
    "]\n",
    "\n",
    "for i in animal_data:\n",
    "    animal.create(i)\n",
    "    \n",
    "dogs = animal.read({\"type\": \"dog\"})\n",
    "for dog in dogs:\n",
    "    print(dog)"
   ]
  },
  {
   "cell_type": "code",
   "execution_count": null,
   "metadata": {},
   "outputs": [],
   "source": []
  }
 ],
 "metadata": {
  "kernelspec": {
   "display_name": "Python 3",
   "language": "python",
   "name": "python3"
  },
  "language_info": {
   "codemirror_mode": {
    "name": "ipython",
    "version": 3
   },
   "file_extension": ".py",
   "mimetype": "text/x-python",
   "name": "python",
   "nbconvert_exporter": "python",
   "pygments_lexer": "ipython3",
   "version": "3.6.9"
  }
 },
 "nbformat": 4,
 "nbformat_minor": 2
}
